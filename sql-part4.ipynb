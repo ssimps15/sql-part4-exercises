{
    "metadata": {
        "kernelspec": {
            "name": "SQL",
            "display_name": "SQL",
            "language": "sql"
        },
        "language_info": {
            "name": "sql",
            "version": ""
        }
    },
    "nbformat_minor": 2,
    "nbformat": 4,
    "cells": [
        {
            "cell_type": "markdown",
            "source": [
                "# Exercises: Complex queries\n",
                "\n",
                "For the exercises, you are tasked with writing five queries that will help you delve deeper into BooksDB. You can choose whether you want to use a correlated subquery, a nested subquery, the UNION operator, the INTERSECT operator, or the EXCEPT operator for each one. You may not use joins or add multiple statements to the WHERE clause.\n",
                "\n",
                "1. Write a query that will return the number of users who rated a book above it's average rating."
            ],
            "metadata": {
                "azdata_cell_guid": "10006a10-882f-4f55-8d42-f36044fdb6c7"
            },
            "attachments": {}
        },
        {
            "cell_type": "code",
            "source": [
                "USE BooksDB\n",
                "SELECT TOP 10 COUNT(user_id) AS 'Number of Users'\n",
                "FROM ratings\n",
                "WHERE rating >\n",
                "    (SELECT average_rating\n",
                "      FROM books\n",
                "   WHERE BooksDB.dbo.books.book_id = BooksDB.dbo.ratings.book_id)\n",
                "\n",
                ""
            ],
            "metadata": {
                "azdata_cell_guid": "203eb95e-6585-435f-8a8e-bfa0dfe6f7c0",
                "tags": [],
                "language": "sql"
            },
            "outputs": [
                {
                    "output_type": "display_data",
                    "data": {
                        "text/html": "(1 row affected)"
                    },
                    "metadata": {}
                },
                {
                    "output_type": "display_data",
                    "data": {
                        "text/html": "Total execution time: 00:00:01.875"
                    },
                    "metadata": {}
                },
                {
                    "output_type": "execute_result",
                    "metadata": {},
                    "execution_count": 16,
                    "data": {
                        "application/vnd.dataresource+json": {
                            "schema": {
                                "fields": [
                                    {
                                        "name": "Number of Users"
                                    }
                                ]
                            },
                            "data": [
                                {
                                    "0": "40960"
                                }
                            ]
                        },
                        "text/html": [
                            "<table>",
                            "<tr><th>Number of Users</th></tr>",
                            "<tr><td>40960</td></tr>",
                            "</table>"
                        ]
                    }
                }
            ],
            "execution_count": 16
        },
        {
            "cell_type": "markdown",
            "source": [
                "2. Write a query that returns the book ids of all books that have over 1000 ratings of 1 star or over 1000 ratings of 5 stars."
            ],
            "metadata": {
                "azdata_cell_guid": "7f849931-6c9c-4cd9-b3ba-66871052673d"
            },
            "attachments": {}
        },
        {
            "cell_type": "code",
            "source": [
                "USE BooksDB\n",
                "SELECT TOP 10 book_id\n",
                "FROM books\n",
                "WHERE ratings_count IN\n",
                "    (SELECT book_id\n",
                "     FROM books\n",
                "     WHERE ratings_1 >= 1000\n",
                "     OR ratings_5 < 1000)\n",
                "\n",
                ""
            ],
            "metadata": {
                "azdata_cell_guid": "bce732e3-1590-457b-b1f9-5319345ff790",
                "language": "sql"
            },
            "outputs": [
                {
                    "output_type": "display_data",
                    "data": {
                        "text/html": "(10 rows affected)"
                    },
                    "metadata": {}
                },
                {
                    "output_type": "display_data",
                    "data": {
                        "text/html": "Total execution time: 00:00:00.063"
                    },
                    "metadata": {}
                },
                {
                    "output_type": "execute_result",
                    "metadata": {},
                    "execution_count": 19,
                    "data": {
                        "application/vnd.dataresource+json": {
                            "schema": {
                                "fields": [
                                    {
                                        "name": "book_id"
                                    }
                                ]
                            },
                            "data": [
                                {
                                    "0": "28078"
                                },
                                {
                                    "0": "13206900"
                                },
                                {
                                    "0": "9915"
                                },
                                {
                                    "0": "43887"
                                },
                                {
                                    "0": "6023056"
                                },
                                {
                                    "0": "6342491"
                                },
                                {
                                    "0": "56034"
                                },
                                {
                                    "0": "37304"
                                },
                                {
                                    "0": "298230"
                                },
                                {
                                    "0": "24580"
                                }
                            ]
                        },
                        "text/html": [
                            "<table>",
                            "<tr><th>book_id</th></tr>",
                            "<tr><td>28078</td></tr>",
                            "<tr><td>13206900</td></tr>",
                            "<tr><td>9915</td></tr>",
                            "<tr><td>43887</td></tr>",
                            "<tr><td>6023056</td></tr>",
                            "<tr><td>6342491</td></tr>",
                            "<tr><td>56034</td></tr>",
                            "<tr><td>37304</td></tr>",
                            "<tr><td>298230</td></tr>",
                            "<tr><td>24580</td></tr>",
                            "</table>"
                        ]
                    }
                }
            ],
            "execution_count": 19
        },
        {
            "cell_type": "markdown",
            "source": [
                "3. Write a query that returns the book ids of all books that have over 1000 ratings of 1 star and over 1000 ratings of 5 stars."
            ],
            "metadata": {
                "azdata_cell_guid": "9c53b866-c8e8-465e-b089-7702b191a15e"
            },
            "attachments": {}
        },
        {
            "cell_type": "code",
            "source": [
                "USE BooksDB\n",
                "SELECT TOP 10 book_id\n",
                "FROM books\n",
                "WHERE book_id IN\n",
                "    (SELECT book_id\n",
                "     FROM books\n",
                "     WHERE ratings_1 >= 1000\n",
                "     AND ratings_5 < 1000);"
            ],
            "metadata": {
                "azdata_cell_guid": "43e39973-5a29-45ff-b2a9-9c658a19c296",
                "language": "sql"
            },
            "outputs": [
                {
                    "output_type": "display_data",
                    "data": {
                        "text/html": "(4 rows affected)"
                    },
                    "metadata": {}
                },
                {
                    "output_type": "display_data",
                    "data": {
                        "text/html": "Total execution time: 00:00:00.112"
                    },
                    "metadata": {}
                },
                {
                    "output_type": "execute_result",
                    "metadata": {},
                    "execution_count": 20,
                    "data": {
                        "application/vnd.dataresource+json": {
                            "schema": {
                                "fields": [
                                    {
                                        "name": "book_id"
                                    }
                                ]
                            },
                            "data": [
                                {
                                    "0": "8664368"
                                },
                                {
                                    "0": "23503361"
                                },
                                {
                                    "0": "6855294"
                                },
                                {
                                    "0": "12878667"
                                }
                            ]
                        },
                        "text/html": [
                            "<table>",
                            "<tr><th>book_id</th></tr>",
                            "<tr><td>8664368</td></tr>",
                            "<tr><td>23503361</td></tr>",
                            "<tr><td>6855294</td></tr>",
                            "<tr><td>12878667</td></tr>",
                            "</table>"
                        ]
                    }
                }
            ],
            "execution_count": 20
        },
        {
            "cell_type": "markdown",
            "source": [
                "4. Write a query that returns the book ids of books that have a language code of \"en-US\" and not a langugae code of \"en-GB\"."
            ],
            "metadata": {
                "azdata_cell_guid": "2bd4844b-83af-490f-97cd-fdc1fa2944ec"
            },
            "attachments": {}
        },
        {
            "cell_type": "code",
            "source": [
                "USE BooksDB\n",
                "SELECT TOP 10 book_id\n",
                "   FROM books\n",
                "   WHERE language_code IN (SELECT language_code\n",
                "         FROM books\n",
                "         WHERE language_code LIKE '%en-US%' \n",
                "         AND language_code NOT LIKE '%en-GB%') \n",
                ""
            ],
            "metadata": {
                "azdata_cell_guid": "ba5a1b61-19c0-4d70-ae8d-2daae6ae1e21",
                "language": "sql"
            },
            "outputs": [
                {
                    "output_type": "display_data",
                    "data": {
                        "text/html": "(10 rows affected)"
                    },
                    "metadata": {}
                },
                {
                    "output_type": "display_data",
                    "data": {
                        "text/html": "Total execution time: 00:00:00.086"
                    },
                    "metadata": {}
                },
                {
                    "output_type": "execute_result",
                    "metadata": {},
                    "execution_count": 22,
                    "data": {
                        "application/vnd.dataresource+json": {
                            "schema": {
                                "fields": [
                                    {
                                        "name": "book_id"
                                    }
                                ]
                            },
                            "data": [
                                {
                                    "0": "41865"
                                },
                                {
                                    "0": "5907"
                                },
                                {
                                    "0": "1934"
                                },
                                {
                                    "0": "428263"
                                },
                                {
                                    "0": "113436"
                                },
                                {
                                    "0": "11"
                                },
                                {
                                    "0": "1162543"
                                },
                                {
                                    "0": "37435"
                                },
                                {
                                    "0": "1656001"
                                },
                                {
                                    "0": "6442769"
                                }
                            ]
                        },
                        "text/html": [
                            "<table>",
                            "<tr><th>book_id</th></tr>",
                            "<tr><td>41865</td></tr>",
                            "<tr><td>5907</td></tr>",
                            "<tr><td>1934</td></tr>",
                            "<tr><td>428263</td></tr>",
                            "<tr><td>113436</td></tr>",
                            "<tr><td>11</td></tr>",
                            "<tr><td>1162543</td></tr>",
                            "<tr><td>37435</td></tr>",
                            "<tr><td>1656001</td></tr>",
                            "<tr><td>6442769</td></tr>",
                            "</table>"
                        ]
                    }
                }
            ],
            "execution_count": 22
        },
        {
            "cell_type": "markdown",
            "source": [
                "5. Write a query that returns the names of the tags and the tag ids for tags that were used over 100,000 times for a book. "
            ],
            "metadata": {
                "azdata_cell_guid": "6ddd588f-a84c-4c77-93ac-e8c8bd21d0f5"
            },
            "attachments": {}
        },
        {
            "cell_type": "code",
            "source": [
                "SELECT tag_id, tag_name\n",
                "FROM BooksDB.dbo.tags\n",
                "WHERE tag_id IN (\n",
                "    SELECT tag_id\n",
                "    FROM BooksDB.dbo.book_tags\n",
                "    WHERE count > 100000\n",
                "    )\n",
                "\n",
                " \n",
                " "
            ],
            "metadata": {
                "azdata_cell_guid": "90f61ad7-65cb-4ea8-85a3-d8c815cfe347",
                "tags": [],
                "language": "sql"
            },
            "outputs": [
                {
                    "output_type": "display_data",
                    "data": {
                        "text/html": "(1 row affected)"
                    },
                    "metadata": {}
                },
                {
                    "output_type": "display_data",
                    "data": {
                        "text/html": "Total execution time: 00:00:00.156"
                    },
                    "metadata": {}
                },
                {
                    "output_type": "execute_result",
                    "metadata": {},
                    "execution_count": 24,
                    "data": {
                        "application/vnd.dataresource+json": {
                            "schema": {
                                "fields": [
                                    {
                                        "name": "tag_id"
                                    },
                                    {
                                        "name": "tag_name"
                                    }
                                ]
                            },
                            "data": [
                                {
                                    "0": "30574",
                                    "1": "to-read"
                                }
                            ]
                        },
                        "text/html": [
                            "<table>",
                            "<tr><th>tag_id</th><th>tag_name</th></tr>",
                            "<tr><td>30574</td><td>to-read</td></tr>",
                            "</table>"
                        ]
                    }
                }
            ],
            "execution_count": 24
        }
    ]
}